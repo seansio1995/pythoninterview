{
 "cells": [
  {
   "cell_type": "markdown",
   "metadata": {},
   "source": [
    "### Reverse Linkedlist"
   ]
  },
  {
   "cell_type": "code",
   "execution_count": 1,
   "metadata": {},
   "outputs": [],
   "source": [
    "def reverse(head):\n",
    "    curr=head\n",
    "    prevnode=None\n",
    "    nextnode=None\n",
    "    \n",
    "    while curr:\n",
    "        nextnode=curr.next\n",
    "        curr.next=prevnode\n",
    "        #move forward in the list\n",
    "        prevnode=curr\n",
    "        curr=nextnode\n",
    "    return previous"
   ]
  },
  {
   "cell_type": "code",
   "execution_count": 2,
   "metadata": {},
   "outputs": [],
   "source": [
    "def nth_to_last(n,head):\n",
    "    left=head\n",
    "    right=head\n",
    "    \n",
    "    for i in range(n-1):\n",
    "        right=right.next\n",
    "    \n",
    "    while right.next:\n",
    "        left=left.next\n",
    "        right=right.next\n",
    "    \n",
    "    return left"
   ]
  },
  {
   "cell_type": "code",
   "execution_count": 6,
   "metadata": {},
   "outputs": [],
   "source": [
    "class Node:\n",
    "\n",
    "    def __init__(self, value):\n",
    "        self.value = value\n",
    "        self.next  = None\n",
    "a = Node(1)\n",
    "b = Node(2)\n",
    "c = Node(3)\n",
    "d = Node(4)\n",
    "e = Node(5)\n",
    "\n",
    "a.next = b\n",
    "b.next = c\n",
    "c.next = d\n",
    "d.next = e"
   ]
  },
  {
   "cell_type": "code",
   "execution_count": 7,
   "metadata": {},
   "outputs": [
    {
     "name": "stdout",
     "output_type": "stream",
     "text": [
      "ALL TEST CASES PASSED\n"
     ]
    }
   ],
   "source": [
    "from nose.tools import assert_equal\n",
    "class TestNLast(object):\n",
    "    \n",
    "    def test(self,sol):\n",
    "        \n",
    "        assert_equal(sol(2,a),d)\n",
    "        print ('ALL TEST CASES PASSED')\n",
    "        \n",
    "# Run tests\n",
    "t = TestNLast()\n",
    "t.test(nth_to_last)"
   ]
  },
  {
   "cell_type": "markdown",
   "metadata": {},
   "source": [
    "### Binary Search Tree Check"
   ]
  },
  {
   "cell_type": "code",
   "execution_count": 10,
   "metadata": {},
   "outputs": [
    {
     "ename": "NameError",
     "evalue": "name 'tree' is not defined",
     "output_type": "error",
     "traceback": [
      "\u001b[0;31m---------------------------------------------------------------------------\u001b[0m",
      "\u001b[0;31mNameError\u001b[0m                                 Traceback (most recent call last)",
      "\u001b[0;32m<ipython-input-10-117d91bdcaaa>\u001b[0m in \u001b[0;36m<module>\u001b[0;34m()\u001b[0m\n\u001b[1;32m      7\u001b[0m \u001b[0;32mdef\u001b[0m \u001b[0msort_check\u001b[0m\u001b[0;34m(\u001b[0m\u001b[0mtree_vals\u001b[0m\u001b[0;34m)\u001b[0m\u001b[0;34m:\u001b[0m\u001b[0;34m\u001b[0m\u001b[0m\n\u001b[1;32m      8\u001b[0m     \u001b[0;32mreturn\u001b[0m \u001b[0mtree_vals\u001b[0m\u001b[0;34m==\u001b[0m\u001b[0msorted\u001b[0m\u001b[0;34m(\u001b[0m\u001b[0mtree_vals\u001b[0m\u001b[0;34m)\u001b[0m\u001b[0;34m\u001b[0m\u001b[0m\n\u001b[0;32m----> 9\u001b[0;31m \u001b[0minorder\u001b[0m\u001b[0;34m(\u001b[0m\u001b[0mtree\u001b[0m\u001b[0;34m)\u001b[0m\u001b[0;34m\u001b[0m\u001b[0m\n\u001b[0m\u001b[1;32m     10\u001b[0m \u001b[0msort_check\u001b[0m\u001b[0;34m(\u001b[0m\u001b[0mtree_vals\u001b[0m\u001b[0;34m)\u001b[0m\u001b[0;34m\u001b[0m\u001b[0m\n",
      "\u001b[0;31mNameError\u001b[0m: name 'tree' is not defined"
     ]
    }
   ],
   "source": [
    "tree_vals=list()\n",
    "def inorder(tree):\n",
    "    if tree!=None:\n",
    "        inorder(tree.getLeftChild())\n",
    "        tree_vals.append(tree.getRootValue())\n",
    "        inorder(tree.getRightChild())\n",
    "def sort_check(tree_vals):\n",
    "    return tree_vals==sorted(tree_vals)\n",
    "inorder(tree)\n",
    "sort_check(tree_vals)"
   ]
  },
  {
   "cell_type": "markdown",
   "metadata": {},
   "source": [
    "### Trim The BST\n",
    "Given the root of a binary search tree and 2 numbers min and max, trim the tree such that all the numbers in the new tree are between min and max (inclusive). \n",
    "The resulting tree should still be a valid binary search tree. So, if we get this tree as input:"
   ]
  },
  {
   "cell_type": "code",
   "execution_count": 13,
   "metadata": {},
   "outputs": [],
   "source": [
    "def trimBST(tree,minVal,maxVal):\n",
    "    if not tree:\n",
    "        return\n",
    "    tree.left=trimBST(tree.left,minVal,maxVal)\n",
    "    tree.right=trimBST(tree.right,minVal,maxVal)\n",
    "    \n",
    "    if minVal<=tree.val<=maxVal:\n",
    "        return tree\n",
    "    if tree.val<minVal:\n",
    "        return tree.right\n",
    "    if tree.val> maxVal:\n",
    "        return tree.left\n",
    "    \n",
    "    "
   ]
  },
  {
   "cell_type": "markdown",
   "metadata": {},
   "source": [
    "### Binary Search"
   ]
  },
  {
   "cell_type": "code",
   "execution_count": 1,
   "metadata": {},
   "outputs": [],
   "source": [
    "def binary_search(arr,ele):\n",
    "    first=0\n",
    "    last=len(arr)-1\n",
    "    \n",
    "    found=False\n",
    "    \n",
    "    while first<=last and not found:\n",
    "        mid=(first+last)//2\n",
    "        \n",
    "        if arr[mid]==ele:\n",
    "            found=True\n",
    "        else:\n",
    "            if ele < arr[mid]:\n",
    "                last=mid-1\n",
    "            else:\n",
    "                first=mid+1\n",
    "    return found"
   ]
  },
  {
   "cell_type": "code",
   "execution_count": 2,
   "metadata": {},
   "outputs": [],
   "source": [
    "arr = [1,2,3,4,5,6,7,8,9,10]"
   ]
  },
  {
   "cell_type": "code",
   "execution_count": 3,
   "metadata": {},
   "outputs": [
    {
     "data": {
      "text/plain": [
       "True"
      ]
     },
     "execution_count": 3,
     "metadata": {},
     "output_type": "execute_result"
    }
   ],
   "source": [
    "binary_search(arr,4)\n"
   ]
  },
  {
   "cell_type": "code",
   "execution_count": 4,
   "metadata": {},
   "outputs": [
    {
     "data": {
      "text/plain": [
       "False"
      ]
     },
     "execution_count": 4,
     "metadata": {},
     "output_type": "execute_result"
    }
   ],
   "source": [
    "binary_search(arr,2.2)"
   ]
  },
  {
   "cell_type": "markdown",
   "metadata": {},
   "source": [
    "### Bubble Sorting"
   ]
  },
  {
   "cell_type": "code",
   "execution_count": 5,
   "metadata": {},
   "outputs": [],
   "source": [
    "def bubble_sort(arr):\n",
    "    for n in range(len(arr)-1,0,-1):\n",
    "        for k in range(n):\n",
    "            if arr[k]>arr[k+1]:\n",
    "                tmp=arr[k]\n",
    "                arr[k]=arr[k+1]\n",
    "                arr[k+1]=tmp\n"
   ]
  },
  {
   "cell_type": "code",
   "execution_count": 6,
   "metadata": {},
   "outputs": [],
   "source": [
    "arr = [3,2,13,4,6,5,7,8,1,20]\n",
    "bubble_sort(arr)"
   ]
  },
  {
   "cell_type": "code",
   "execution_count": 7,
   "metadata": {},
   "outputs": [
    {
     "data": {
      "text/plain": [
       "[1, 2, 3, 4, 5, 6, 7, 8, 13, 20]"
      ]
     },
     "execution_count": 7,
     "metadata": {},
     "output_type": "execute_result"
    }
   ],
   "source": [
    "arr"
   ]
  },
  {
   "cell_type": "markdown",
   "metadata": {},
   "source": [
    "### Selection Sorting"
   ]
  },
  {
   "cell_type": "code",
   "execution_count": 8,
   "metadata": {},
   "outputs": [],
   "source": [
    "def selection_sort(arr):\n",
    "    for fillslot in range(len(arr)-1,0,-1):\n",
    "        positionMax=0\n",
    "        \n",
    "        for location in range(1,fillslot+1):\n",
    "            if arr[location]>arr[positionMax]:\n",
    "                positionMax=location\n",
    "        tmp=arr[fillslot]\n",
    "        arr[fillslot]=arr[positionMax]\n",
    "        arr[positionMax]=tmp\n"
   ]
  },
  {
   "cell_type": "code",
   "execution_count": 9,
   "metadata": {},
   "outputs": [],
   "source": [
    "arr = [3,2,13,4,6,5,7,8,1,20]\n",
    "selection_sort(arr)"
   ]
  },
  {
   "cell_type": "code",
   "execution_count": 10,
   "metadata": {},
   "outputs": [
    {
     "data": {
      "text/plain": [
       "[1, 2, 3, 4, 5, 6, 7, 8, 13, 20]"
      ]
     },
     "execution_count": 10,
     "metadata": {},
     "output_type": "execute_result"
    }
   ],
   "source": [
    "arr"
   ]
  },
  {
   "cell_type": "markdown",
   "metadata": {},
   "source": [
    "### Insertion Sorting"
   ]
  },
  {
   "cell_type": "code",
   "execution_count": 12,
   "metadata": {},
   "outputs": [],
   "source": [
    "def insertion_sort(arr):\n",
    "    for i in range(1,len(arr)):\n",
    "        curr=arr[i]\n",
    "        position=i\n",
    "        \n",
    "        while position > 0 and arr[position-1]>curr:\n",
    "            arr[position]=arr[position-1]\n",
    "            position-=1\n",
    "        arr[position]=curr"
   ]
  },
  {
   "cell_type": "code",
   "execution_count": 13,
   "metadata": {},
   "outputs": [
    {
     "data": {
      "text/plain": [
       "[1, 2, 3, 4, 5, 6, 8, 12, 25, 41]"
      ]
     },
     "execution_count": 13,
     "metadata": {},
     "output_type": "execute_result"
    }
   ],
   "source": [
    "arr =[3,5,4,6,8,1,2,12,41,25]\n",
    "insertion_sort(arr)\n",
    "arr"
   ]
  },
  {
   "cell_type": "markdown",
   "metadata": {},
   "source": [
    "### Merge Sorting"
   ]
  },
  {
   "cell_type": "code",
   "execution_count": 14,
   "metadata": {},
   "outputs": [],
   "source": [
    "def merge_sort(arr):\n",
    "    if len(arr)>1:\n",
    "        mid=len(arr)//2\n",
    "        lefthalf = arr[:mid]\n",
    "        righthalf = arr[mid:]\n",
    "\n",
    "        merge_sort(lefthalf)\n",
    "        merge_sort(righthalf)\n",
    "        \n",
    "        i=0\n",
    "        j=0\n",
    "        k=0\n",
    "        \n",
    "        while i<len(lefthalf) and j<len(righthalf):\n",
    "            if lefthalf[i]<righthalf[j]:\n",
    "                arr[k]=lefthalf[i]\n",
    "                i=i+1\n",
    "            else:\n",
    "                arr[k]=righthalf[j]\n",
    "                j=j+1\n",
    "            k=k+1\n",
    "        while i < len(lefthalf):\n",
    "            arr[k]=lefthalf[i]\n",
    "            i=i+1\n",
    "            k=k+1\n",
    "\n",
    "        while j < len(righthalf):\n",
    "            arr[k]=righthalf[j]\n",
    "            j=j+1\n",
    "            k=k+1"
   ]
  },
  {
   "cell_type": "code",
   "execution_count": 15,
   "metadata": {},
   "outputs": [
    {
     "data": {
      "text/plain": [
       "[1, 2, 4, 5, 6, 7, 8, 11, 23]"
      ]
     },
     "execution_count": 15,
     "metadata": {},
     "output_type": "execute_result"
    }
   ],
   "source": [
    "arr = [11,2,5,4,7,6,8,1,23]\n",
    "merge_sort(arr)\n",
    "arr"
   ]
  },
  {
   "cell_type": "markdown",
   "metadata": {},
   "source": [
    "### Max Profit"
   ]
  },
  {
   "cell_type": "code",
   "execution_count": 16,
   "metadata": {},
   "outputs": [],
   "source": [
    "def profit(stock_price):\n",
    "    min_price=stock_price[0]\n",
    "    max_profit=0\n",
    "    \n",
    "    for price in stock_price:\n",
    "        min_price=min(min_price,price)\n",
    "        tmp_profit=price-min_price\n",
    "        max_profit=max(max_profit,tmp_profit)\n",
    "    return max_profit"
   ]
  },
  {
   "cell_type": "code",
   "execution_count": 17,
   "metadata": {},
   "outputs": [
    {
     "data": {
      "text/plain": [
       "39"
      ]
     },
     "execution_count": 17,
     "metadata": {},
     "output_type": "execute_result"
    }
   ],
   "source": [
    "profit([10,12,14,12,13,11,8,7,6,13,23,45,11,10])"
   ]
  },
  {
   "cell_type": "markdown",
   "metadata": {},
   "source": [
    "### Problem\n",
    "Given a list of integers, write a function that will return a list, \n",
    "in which for each index the element will be the product of all the integers \n",
    "except for the element at that index"
   ]
  },
  {
   "cell_type": "markdown",
   "metadata": {},
   "source": [
    "##### Solution:\n",
    "a b c d e\n",
    "\n",
    "1st: 1 a ab abc abcd\n",
    "\n",
    "2nd: bcde  cde  de    e   1\n",
    "    \n",
    "final: bcde acde abde abce abcd"
   ]
  },
  {
   "cell_type": "code",
   "execution_count": 29,
   "metadata": {},
   "outputs": [],
   "source": [
    "def index_prod(arr):\n",
    "    output=[None]*len(arr)\n",
    "    product=1\n",
    "    for i in range(len(arr)):\n",
    "        output[i]=product\n",
    "        product*=arr[i]\n",
    "    product=1\n",
    "    for i in range(len(arr)-1,-1,-1):\n",
    "        output[i]*=product\n",
    "        product*=arr[i]\n",
    "    \n",
    "    return output\n",
    "        "
   ]
  },
  {
   "cell_type": "code",
   "execution_count": 30,
   "metadata": {},
   "outputs": [
    {
     "data": {
      "text/plain": [
       "[24, 12, 8, 6]"
      ]
     },
     "execution_count": 30,
     "metadata": {},
     "output_type": "execute_result"
    }
   ],
   "source": [
    "index_prod([1,2,3,4])"
   ]
  },
  {
   "cell_type": "code",
   "execution_count": 24,
   "metadata": {},
   "outputs": [],
   "source": [
    "def index_prod2(lst):\n",
    "    \n",
    "    # Create an empty output list\n",
    "    output = [None] * len(lst)\n",
    "    \n",
    "    # Set initial product and index for greedy run forward\n",
    "    product = 1\n",
    "    i = 0\n",
    "    \n",
    "    while i < len(lst):\n",
    "        \n",
    "        # Set index as cumulative product\n",
    "        output[i] = product\n",
    "        \n",
    "        # Cumulative product\n",
    "        product *= lst[i]\n",
    "        \n",
    "        # Move forward\n",
    "        i +=1\n",
    "        \n",
    "    \n",
    "    # Now for our Greedy run Backwards\n",
    "    product = 1\n",
    "    \n",
    "    # Start index at last (taking into account index 0)\n",
    "    i = len(lst) - 1\n",
    "    \n",
    "    # Until the beginning of the list\n",
    "    while i >=0:\n",
    "        \n",
    "        # Same operations as before, just backwards\n",
    "        output[i] *= product\n",
    "        product *= lst[i]\n",
    "        i -= 1\n",
    "        \n",
    "    return output"
   ]
  },
  {
   "cell_type": "code",
   "execution_count": 25,
   "metadata": {},
   "outputs": [
    {
     "data": {
      "text/plain": [
       "[24, 12, 8, 6]"
      ]
     },
     "execution_count": 25,
     "metadata": {},
     "output_type": "execute_result"
    }
   ],
   "source": [
    "index_prod2([1,2,3,4])"
   ]
  },
  {
   "cell_type": "code",
   "execution_count": 31,
   "metadata": {},
   "outputs": [
    {
     "data": {
      "text/plain": [
       "[24, 0, 0, 0, 0]"
      ]
     },
     "execution_count": 31,
     "metadata": {},
     "output_type": "execute_result"
    }
   ],
   "source": [
    "index_prod([0,1,2,3,4])"
   ]
  },
  {
   "cell_type": "markdown",
   "metadata": {},
   "source": [
    "### Determine Rectangle Overlap"
   ]
  },
  {
   "cell_type": "code",
   "execution_count": 37,
   "metadata": {},
   "outputs": [],
   "source": [
    "def check_overlap(coord1,dim1,coord2,dim2):\n",
    "    greater=max(coord1,coord2)\n",
    "    lower=min(coord1+dim1,coord2+dim2)\n",
    "    \n",
    "    if lower<=greater:\n",
    "        return (None,None)\n",
    "    overlap=lower-greater\n",
    "    return (greater,overlap)\n",
    "        \n",
    "    \n",
    "def calc_rect_overlap(r1,r2):\n",
    "    \n",
    "    \n",
    "    x_overlap, w_overlap = check_overlap(r1['x'],r1['w'],r2['x'],r2['w'])\n",
    "    \n",
    "    y_overlap, h_overlap = check_overlap(r1['y'],r1['h'],r2['y'],r2['h'])\n",
    "    \n",
    "    # If either returned None tuples, then there is no overlap!\n",
    "    if not w_overlap or not h_overlap:\n",
    "        print ('There was no overlap!')\n",
    "        return None\n",
    "    \n",
    "    # Otherwise return the dictionary format of the overlapping rectangle\n",
    "    return { 'x':x_overlap,'y': y_overlap,'w':w_overlap,'h':h_overlap}"
   ]
  },
  {
   "cell_type": "code",
   "execution_count": 38,
   "metadata": {},
   "outputs": [
    {
     "data": {
      "text/plain": [
       "{'x': 2, 'y': 5, 'w': 5, 'h': 11}"
      ]
     },
     "execution_count": 38,
     "metadata": {},
     "output_type": "execute_result"
    }
   ],
   "source": [
    "r1 = {'x': 2 , 'y': 4,'w':5,'h':12}\n",
    "r2 = {'x': 1 , 'y': 5,'w':7,'h':14}\n",
    "calc_rect_overlap(r1,r2)"
   ]
  },
  {
   "cell_type": "markdown",
   "metadata": {},
   "source": [
    "### Create Random Function\n",
    "Given a dice which rolls 1 to 7 (with uniform probability), simulate a 5 sided dice. \n",
    "Preferably, write your solution as a function.\n",
    "\n"
   ]
  },
  {
   "cell_type": "code",
   "execution_count": 39,
   "metadata": {},
   "outputs": [],
   "source": [
    "from random import randint\n",
    "def dice7():\n",
    "    return randint(1,7)\n",
    "\n",
    "\n",
    "def convert7to5():\n",
    "    roll=dice7()\n",
    "    \n",
    "    while roll>5:\n",
    "        roll=dice7()\n",
    "    return roll\n",
    "    "
   ]
  },
  {
   "cell_type": "code",
   "execution_count": 40,
   "metadata": {},
   "outputs": [
    {
     "data": {
      "text/plain": [
       "2"
      ]
     },
     "execution_count": 40,
     "metadata": {},
     "output_type": "execute_result"
    }
   ],
   "source": [
    "convert7to5()"
   ]
  },
  {
   "cell_type": "code",
   "execution_count": 41,
   "metadata": {},
   "outputs": [
    {
     "name": "stdout",
     "output_type": "stream",
     "text": [
      "1\n",
      "2\n",
      "3\n",
      "3\n",
      "4\n",
      "4\n",
      "2\n",
      "5\n",
      "3\n",
      "3\n"
     ]
    }
   ],
   "source": [
    "for i in range(10):\n",
    "    print(convert7to5())"
   ]
  },
  {
   "cell_type": "markdown",
   "metadata": {},
   "source": [
    "Given a dice which rolls from 1 to 5, simulate a uniform 7 sided dice!"
   ]
  },
  {
   "cell_type": "code",
   "execution_count": 42,
   "metadata": {},
   "outputs": [],
   "source": [
    "from random import randint\n",
    " \n",
    "def dice5():\n",
    "    return randint(1, 5)\n"
   ]
  },
  {
   "cell_type": "code",
   "execution_count": 43,
   "metadata": {},
   "outputs": [],
   "source": [
    "def convert5to7():\n",
    "    while True:\n",
    "        roll1=dice5()\n",
    "        roll2=dice5()\n",
    "        num=(roll1-1)*5+roll2\n",
    "        \n",
    "        if num>21:\n",
    "            continue\n",
    "        return num%7+1"
   ]
  },
  {
   "cell_type": "code",
   "execution_count": 44,
   "metadata": {},
   "outputs": [
    {
     "name": "stdout",
     "output_type": "stream",
     "text": [
      "6\n",
      "4\n",
      "1\n",
      "5\n",
      "3\n",
      "6\n",
      "2\n",
      "2\n",
      "6\n",
      "1\n"
     ]
    }
   ],
   "source": [
    "for i in range(10):\n",
    "    print(convert5to7())"
   ]
  },
  {
   "cell_type": "markdown",
   "metadata": {},
   "source": [
    "Given a string, write a function that uses recursion to reverse it."
   ]
  },
  {
   "cell_type": "code",
   "execution_count": 45,
   "metadata": {},
   "outputs": [],
   "source": [
    "def reverse(s):\n",
    "    if len(s)<=1:\n",
    "        return s\n",
    "    return reverse(s[1:])+s[0]\n"
   ]
  },
  {
   "cell_type": "code",
   "execution_count": 46,
   "metadata": {},
   "outputs": [
    {
     "data": {
      "text/plain": [
       "'dlrowolleh'"
      ]
     },
     "execution_count": 46,
     "metadata": {},
     "output_type": "execute_result"
    }
   ],
   "source": [
    "reverse(\"helloworld\")"
   ]
  },
  {
   "cell_type": "markdown",
   "metadata": {},
   "source": [
    "### Math Sqrt\n",
    "Find the squareroot of a given number rounded down to the nearest integer, without using the sqrt function. \n",
    "For example, squareroot of a number between [9, 15] should return 3, and [16, 24] should be 4."
   ]
  },
  {
   "cell_type": "code",
   "execution_count": 47,
   "metadata": {},
   "outputs": [],
   "source": [
    "def mysqrt(num):\n",
    "    if num<0:\n",
    "        raise ValueError\n",
    "    if num==1:\n",
    "        return 1\n",
    "    low=0\n",
    "    high=num//2+1\n",
    "    \n",
    "    while low+1<high:\n",
    "        mid=low+(high-low)//2\n",
    "        square=mid**2\n",
    "        \n",
    "        if square==num:\n",
    "            return mid\n",
    "        elif square < num:\n",
    "            low=mid\n",
    "        else:\n",
    "            high=mid\n",
    "    return low"
   ]
  },
  {
   "cell_type": "code",
   "execution_count": 48,
   "metadata": {},
   "outputs": [
    {
     "data": {
      "text/plain": [
       "10"
      ]
     },
     "execution_count": 48,
     "metadata": {},
     "output_type": "execute_result"
    }
   ],
   "source": [
    "mysqrt(100)"
   ]
  },
  {
   "cell_type": "code",
   "execution_count": 49,
   "metadata": {},
   "outputs": [
    {
     "data": {
      "text/plain": [
       "8"
      ]
     },
     "execution_count": 49,
     "metadata": {},
     "output_type": "execute_result"
    }
   ],
   "source": [
    "mysqrt(68)"
   ]
  },
  {
   "cell_type": "code",
   "execution_count": 50,
   "metadata": {},
   "outputs": [
    {
     "data": {
      "text/plain": [
       "4"
      ]
     },
     "execution_count": 50,
     "metadata": {},
     "output_type": "execute_result"
    }
   ],
   "source": [
    "mysqrt(24)"
   ]
  },
  {
   "cell_type": "markdown",
   "metadata": {},
   "source": [
    "### Three Number Product Question\n",
    "Given a list of integers, find the largest product \n",
    "you could make from 3 integers in the list"
   ]
  },
  {
   "cell_type": "code",
   "execution_count": 51,
   "metadata": {},
   "outputs": [],
   "source": [
    "def prod3(arr):\n",
    "    low=min(arr[0],arr[1])\n",
    "    high=max(arr[0],arr[1])\n",
    "    \n",
    "    high_prod2=arr[0]*arr[1]\n",
    "    low_prod2=arr[0]*arr[1]\n",
    "    \n",
    "    high_prod3=arr[0]*arr[1]*arr[2]\n",
    "    \n",
    "    for num in arr[2:]:\n",
    "        high_prod3=max(high_prod3,num*high_prod2,num*low_prod2)\n",
    "        \n",
    "        high_prod2=max(high_prod2,high*num)\n",
    "        \n",
    "        low_prod2=min(low_prod2,low*num)\n",
    "        \n",
    "        high=max(high,num)\n",
    "        \n",
    "        low=min(low,num)\n",
    "    return high_prod3"
   ]
  },
  {
   "cell_type": "code",
   "execution_count": 52,
   "metadata": {},
   "outputs": [
    {
     "data": {
      "text/plain": [
       "763092"
      ]
     },
     "execution_count": 52,
     "metadata": {},
     "output_type": "execute_result"
    }
   ],
   "source": [
    "l = [99,-82,82,40,75,-24,39, -82, 5, 30, -25, -94, 93, -23, 48, 50, 49,-81,41,63]\n",
    "\n",
    "prod3(l)"
   ]
  },
  {
   "cell_type": "markdown",
   "metadata": {},
   "source": [
    "Write a function that given a target amount of money and a list of possible coin denominations, returns the number of ways to make change for \n",
    "the target amount using the coin denominations"
   ]
  },
  {
   "cell_type": "code",
   "execution_count": null,
   "metadata": {},
   "outputs": [],
   "source": []
  },
  {
   "cell_type": "markdown",
   "metadata": {},
   "source": [
    "### Check Binary Tree"
   ]
  },
  {
   "cell_type": "code",
   "execution_count": 53,
   "metadata": {},
   "outputs": [],
   "source": [
    "class Node:\n",
    "    def __init__(self,val):\n",
    "        self.left=None\n",
    "        self.right=None\n",
    "        self.val=val"
   ]
  },
  {
   "cell_type": "code",
   "execution_count": 54,
   "metadata": {},
   "outputs": [],
   "source": [
    "def isBST(tree,minVal=float(\"-infinity\"),maxVal=float(\"infinity\")):\n",
    "    if tree is None:\n",
    "        return True\n",
    "    if not minVal<=tree.val<=maxVal:\n",
    "        return False\n",
    "    return isBST(tree.left,minVal,tree.val) and isBST(tree.right,tree.val,maxVal)"
   ]
  },
  {
   "cell_type": "code",
   "execution_count": 55,
   "metadata": {},
   "outputs": [],
   "source": [
    "def isBST2(tree,lastNode=float(\"-infinity\")):\n",
    "    if tree is None:\n",
    "        return True\n",
    "    if not isBST2(tree.left,lastNode):\n",
    "        return False\n",
    "    if tree.val< lastNode[0]:\n",
    "        return False\n",
    "    lastNode[0]=tree.val\n",
    "    \n",
    "    return isBST2(tree.right,lastNode)"
   ]
  },
  {
   "cell_type": "markdown",
   "metadata": {},
   "source": [
    "### Remove Duplicates"
   ]
  },
  {
   "cell_type": "code",
   "execution_count": 56,
   "metadata": {},
   "outputs": [],
   "source": [
    "def removeDuplicate(s):\n",
    "    result=list()\n",
    "    seen=set()\n",
    "    for char in s:\n",
    "        if char not in seen:\n",
    "            seen.add(char)\n",
    "            result.append(char)\n",
    "    return \"\".join(result)"
   ]
  },
  {
   "cell_type": "code",
   "execution_count": 57,
   "metadata": {},
   "outputs": [
    {
     "data": {
      "text/plain": [
       "'yes'"
      ]
     },
     "execution_count": 57,
     "metadata": {},
     "output_type": "execute_result"
    }
   ],
   "source": [
    "removeDuplicate(\"yyyyes\")"
   ]
  },
  {
   "cell_type": "markdown",
   "metadata": {},
   "source": [
    "### Two Sum"
   ]
  },
  {
   "cell_type": "code",
   "execution_count": 58,
   "metadata": {},
   "outputs": [],
   "source": [
    "def checker(arr,target):\n",
    "    seen=set()\n",
    "    for num in arr:\n",
    "        num2=target-num\n",
    "        if num2 in seen:\n",
    "            return True\n",
    "        seen.add(num)\n",
    "    return False"
   ]
  },
  {
   "cell_type": "code",
   "execution_count": 60,
   "metadata": {},
   "outputs": [
    {
     "data": {
      "text/plain": [
       "True"
      ]
     },
     "execution_count": 60,
     "metadata": {},
     "output_type": "execute_result"
    }
   ],
   "source": [
    "checker([1,3,5,1,7],4)"
   ]
  },
  {
   "cell_type": "code",
   "execution_count": 61,
   "metadata": {},
   "outputs": [
    {
     "data": {
      "text/plain": [
       "False"
      ]
     },
     "execution_count": 61,
     "metadata": {},
     "output_type": "execute_result"
    }
   ],
   "source": [
    "checker([1,3,5,1,7],14)"
   ]
  },
  {
   "cell_type": "markdown",
   "metadata": {},
   "source": [
    "### Unique ID"
   ]
  },
  {
   "cell_type": "code",
   "execution_count": 62,
   "metadata": {},
   "outputs": [],
   "source": [
    "def find_unique_id(arr):\n",
    "    unique=0\n",
    "    for idx in arr:\n",
    "        unique^=idx\n",
    "    return unique\n",
    "        "
   ]
  },
  {
   "cell_type": "code",
   "execution_count": 63,
   "metadata": {},
   "outputs": [
    {
     "name": "stdout",
     "output_type": "stream",
     "text": [
      "7\n"
     ]
    }
   ],
   "source": [
    "print(find_unique_id([1,3,5,1,7,3,5]))"
   ]
  },
  {
   "cell_type": "markdown",
   "metadata": {},
   "source": [
    "### Final Question\n",
    "Create a function that takes in a list of unsorted prices (integers) and a \n",
    "maximum possible price value, and return a sorted list of prices"
   ]
  },
  {
   "cell_type": "code",
   "execution_count": 64,
   "metadata": {},
   "outputs": [],
   "source": [
    "def count_sort(arr,max_num):\n",
    "    count_arr=[0]*(max_num+1)\n",
    "    \n",
    "    for num in arr:\n",
    "        count_arr[num]+=1\n",
    "    res=list()\n",
    "    for num, count in enumerate(count_arr):\n",
    "        for i in range(count):\n",
    "            res.append(num)\n",
    "    return res"
   ]
  },
  {
   "cell_type": "code",
   "execution_count": 66,
   "metadata": {},
   "outputs": [
    {
     "data": {
      "text/plain": [
       "[2, 3, 4, 6, 7, 8, 9]"
      ]
     },
     "execution_count": 66,
     "metadata": {},
     "output_type": "execute_result"
    }
   ],
   "source": [
    "count_sort([4,6,2,7,3,8,9],9)"
   ]
  },
  {
   "cell_type": "markdown",
   "metadata": {},
   "source": [
    "### Finished"
   ]
  }
 ],
 "metadata": {
  "kernelspec": {
   "display_name": "Python 3",
   "language": "python",
   "name": "python3"
  },
  "language_info": {
   "codemirror_mode": {
    "name": "ipython",
    "version": 3
   },
   "file_extension": ".py",
   "mimetype": "text/x-python",
   "name": "python",
   "nbconvert_exporter": "python",
   "pygments_lexer": "ipython3",
   "version": "3.6.6"
  }
 },
 "nbformat": 4,
 "nbformat_minor": 2
}
