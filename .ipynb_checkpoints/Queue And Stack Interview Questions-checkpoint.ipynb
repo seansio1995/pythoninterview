{
 "cells": [
  {
   "cell_type": "markdown",
   "metadata": {},
   "source": [
    "### Balanced Parentheses Check\n",
    "Given a string of opening and closing parentheses, check whether it’s balanced. \n",
    "We have 3 types of parentheses: round brackets: (), square brackets: [], and curly brackets: \n",
    "{}. Assume that the string doesn’t contain any other character than these, no spaces words or numbers. As a reminder, balanced parentheses require every opening parenthesis to be closed in the reverse order opened. For example ‘([])’ is balanced but ‘([)]’ is not.\n",
    "\n",
    "You can assume the input string has no spaces.\n",
    "\n"
   ]
  },
  {
   "cell_type": "code",
   "execution_count": 3,
   "metadata": {},
   "outputs": [],
   "source": [
    "def balance_check(s):\n",
    "    if len(s)%2!=0:\n",
    "        return False\n",
    "    \n",
    "    opens=set(\"([{\")\n",
    "    matches = set([ ('(',')'), ('[',']'), ('{','}') ]) \n",
    "    \n",
    "    \n",
    "    stack=list()\n",
    "    \n",
    "    for paren in s:\n",
    "        if paren in opens:\n",
    "            stack.append(paren)\n",
    "        \n",
    "        else:\n",
    "            if len(stack)==0:\n",
    "                return False\n",
    "            \n",
    "            last_open=stack.pop()\n",
    "            \n",
    "            if (last_open,paren) not in matches:\n",
    "                return False\n",
    "    return len(stack)==0"
   ]
  },
  {
   "cell_type": "code",
   "execution_count": 4,
   "metadata": {},
   "outputs": [
    {
     "name": "stdout",
     "output_type": "stream",
     "text": [
      "ALL TEST CASES PASSED\n"
     ]
    }
   ],
   "source": [
    "from nose.tools import assert_equal\n",
    "\n",
    "class TestBalanceCheck(object):\n",
    "    \n",
    "    def test(self,sol):\n",
    "        assert_equal(sol('[](){([[[]]])}('),False)\n",
    "        assert_equal(sol('[{{{(())}}}]((()))'),True)\n",
    "        assert_equal(sol('[[[]])]'),False)\n",
    "        print ('ALL TEST CASES PASSED')\n",
    "        \n",
    "# Run Tests\n",
    "\n",
    "t = TestBalanceCheck()\n",
    "t.test(balance_check)"
   ]
  },
  {
   "cell_type": "markdown",
   "metadata": {},
   "source": [
    "### Implement a Queue - Using Two Stacks\n",
    "Given the Stack class below, implement a Queue class using two stacks! \n",
    "Note, this is a \"classic\" interview problem. \n",
    "Use a Python list data structure as your Stack."
   ]
  },
  {
   "cell_type": "code",
   "execution_count": 9,
   "metadata": {},
   "outputs": [],
   "source": [
    "class StackQueue(object):\n",
    "    def __init__(self):\n",
    "        self.instack=list()\n",
    "        self.outstack=list()\n",
    "        \n",
    "    def enqueue(self,item):\n",
    "        self.instack.append(item)\n",
    "    \n",
    "    \n",
    "    def dequeue(self):\n",
    "        if not self.outstack:\n",
    "            while self.instack:\n",
    "                self.outstack.append(self.instack.pop())\n",
    "        return self.outstack.pop()"
   ]
  },
  {
   "cell_type": "code",
   "execution_count": 10,
   "metadata": {},
   "outputs": [
    {
     "name": "stdout",
     "output_type": "stream",
     "text": [
      "0\n",
      "1\n",
      "2\n",
      "3\n",
      "4\n"
     ]
    }
   ],
   "source": [
    "q = StackQueue()\n",
    "\n",
    "for i in range(5):\n",
    "    q.enqueue(i)\n",
    "    \n",
    "for i in range(5):\n",
    "    print (q.dequeue())"
   ]
  }
 ],
 "metadata": {
  "kernelspec": {
   "display_name": "Python 3",
   "language": "python",
   "name": "python3"
  },
  "language_info": {
   "codemirror_mode": {
    "name": "ipython",
    "version": 3
   },
   "file_extension": ".py",
   "mimetype": "text/x-python",
   "name": "python",
   "nbconvert_exporter": "python",
   "pygments_lexer": "ipython3",
   "version": "3.6.6"
  }
 },
 "nbformat": 4,
 "nbformat_minor": 2
}
